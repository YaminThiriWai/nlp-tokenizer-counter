{
 "cells": [
  {
   "cell_type": "code",
   "execution_count": null,
   "metadata": {},
   "outputs": [],
   "source": [
    "import nltk\n",
    "from nltk.tokenize import word_tokenize\n",
    "from collections import Counter\n",
    "\n",
    "nltk.download('punkt')\n",
    "\n",
    "example_string = \"\"\"\n",
    "Muad'Dib learned rapidly because his first training was in how to learn.\n",
    "And the first lesson of all was the basic trust that he could learn.\n",
    "It's shocking to find how many people do not believe they can learn,\n",
    "and how many more believe learning to be difficult.\n",
    "\"\"\"\n",
    "sentences = sent_tokenize(example_string)\n",
    "\n",
    "print(sentences)\n",
    "\n",
    "# Tokenize the words\n",
    "words = word_tokenize(example_string)\n",
    "\n",
    "print(words)\n",
    "\n",
    "# Count the frequency of each word\n",
    "word_freq = Counter(words)\n",
    "\n",
    "for word, freq in word_freq.items():\n",
    "    print(f'{word}: {freq} time(s)')\n"
   ]
  },
  {
   "cell_type": "code",
   "execution_count": null,
   "metadata": {},
   "outputs": [],
   "source": [
    "#this is another program that exclude punctuations\n",
    "import nltk\n",
    "from nltk.tokenize import word_tokenize\n",
    "from collections import Counter\n",
    "\n",
    "nltk.download('punkt')\n",
    "\n",
    "example_string = \"\"\"\n",
    "Muad'Dib learned rapidly because his first training was in how to learn.\n",
    "And the first lesson of all was the basic trust that he could learn.\n",
    "It's shocking to find how many people do not believe they can learn,\n",
    "and how many more believe learning to be difficult.\n",
    "\"\"\"\n",
    "sentences = sent_tokenize(example_string)\n",
    "\n",
    "words = word_tokenize(example_string)\n",
    "\n",
    "#exclude \".\" and punctuations\n",
    "filtered_words_alpha = [word for word in words if word.isalpha()]\n",
    "\n",
    "\n",
    "print(sentences)\n",
    "print(filtered_words_alpha)\n",
    "\n",
    "word_freq = Counter(words)\n",
    "\n",
    "for word, freq in word_freq.items():\n",
    "    if word.isalnum():\n",
    "        print(f'{word}: {freq} time(s)')"
   ]
  }
 ],
 "metadata": {
  "kernelspec": {
   "display_name": "base",
   "language": "python",
   "name": "python3"
  },
  "language_info": {
   "codemirror_mode": {
    "name": "ipython",
    "version": 3
   },
   "file_extension": ".py",
   "mimetype": "text/x-python",
   "name": "python",
   "nbconvert_exporter": "python",
   "pygments_lexer": "ipython3",
   "version": "3.11.5"
  }
 },
 "nbformat": 4,
 "nbformat_minor": 2
}
